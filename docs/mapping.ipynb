{
 "cells": [
  {
   "cell_type": "markdown",
   "metadata": {},
   "source": [
    "# Interactive Mapping "
   ]
  },
  {
   "cell_type": "code",
   "execution_count": 1,
   "metadata": {},
   "outputs": [],
   "source": [
    "# Load packages \n",
    "import pandas as pd\n",
    "import geopandas as gpd\n",
    "import matplotlib.pyplot as plt\n",
    "from matplotlib import colors\n",
    "import seaborn as sns         \n",
    "import numpy as np\n",
    "import os\n",
    "import folium\n",
    "import plotly.express as px\n",
    "import rasterio \n",
    "import rioxarray as rioxr\n",
    "import json\n",
    "# from bokeh.plotting import figure, show\n",
    "\n",
    "# import libpysal as lps \n",
    "# from libpysal.weights import W \n",
    "# from esda.getisord import G_Local\n",
    "# from functions import state_gstar\n",
    "\n",
    "# Remove max columns\n",
    "pd.set_option('display.max_columns', None)"
   ]
  },
  {
   "cell_type": "code",
   "execution_count": 2,
   "metadata": {},
   "outputs": [
    {
     "data": {
      "text/html": [
       "<div>\n",
       "<style scoped>\n",
       "    .dataframe tbody tr th:only-of-type {\n",
       "        vertical-align: middle;\n",
       "    }\n",
       "\n",
       "    .dataframe tbody tr th {\n",
       "        vertical-align: top;\n",
       "    }\n",
       "\n",
       "    .dataframe thead th {\n",
       "        text-align: right;\n",
       "    }\n",
       "</style>\n",
       "<table border=\"1\" class=\"dataframe\">\n",
       "  <thead>\n",
       "    <tr style=\"text-align: right;\">\n",
       "      <th></th>\n",
       "      <th>tract_id</th>\n",
       "      <th>total_criteria</th>\n",
       "      <th>total_burdens</th>\n",
       "      <th>dac_wo_neighbors</th>\n",
       "      <th>dac_relaxed_low_income</th>\n",
       "      <th>dac</th>\n",
       "      <th>percent_area_dac</th>\n",
       "      <th>share_of_dac_neighbors</th>\n",
       "      <th>total_population</th>\n",
       "      <th>original_g_star</th>\n",
       "      <th>standardized_g_star</th>\n",
       "      <th>p_norm</th>\n",
       "      <th>standardized_g_star_crit</th>\n",
       "      <th>p_norm_crit</th>\n",
       "      <th>geometry</th>\n",
       "    </tr>\n",
       "  </thead>\n",
       "  <tbody>\n",
       "    <tr>\n",
       "      <th>0</th>\n",
       "      <td>1001020100</td>\n",
       "      <td>0</td>\n",
       "      <td>0.0</td>\n",
       "      <td>False</td>\n",
       "      <td>False</td>\n",
       "      <td>False</td>\n",
       "      <td>0</td>\n",
       "      <td>0.0</td>\n",
       "      <td>1993.0</td>\n",
       "      <td>0.0</td>\n",
       "      <td>-0.620617</td>\n",
       "      <td>0.267426</td>\n",
       "      <td>-0.560448</td>\n",
       "      <td>0.287587</td>\n",
       "      <td>POLYGON ((-86.48196 32.49876, -86.48189 32.498...</td>\n",
       "    </tr>\n",
       "    <tr>\n",
       "      <th>1</th>\n",
       "      <td>1001020200</td>\n",
       "      <td>0</td>\n",
       "      <td>0.0</td>\n",
       "      <td>False</td>\n",
       "      <td>False</td>\n",
       "      <td>False</td>\n",
       "      <td>0</td>\n",
       "      <td>0.0</td>\n",
       "      <td>1959.0</td>\n",
       "      <td>0.0</td>\n",
       "      <td>-0.620617</td>\n",
       "      <td>0.267426</td>\n",
       "      <td>-0.560448</td>\n",
       "      <td>0.287587</td>\n",
       "      <td>POLYGON ((-86.46828 32.4737, -86.468 32.47371,...</td>\n",
       "    </tr>\n",
       "    <tr>\n",
       "      <th>2</th>\n",
       "      <td>1001020300</td>\n",
       "      <td>0</td>\n",
       "      <td>0.0</td>\n",
       "      <td>False</td>\n",
       "      <td>False</td>\n",
       "      <td>False</td>\n",
       "      <td>0</td>\n",
       "      <td>0.0</td>\n",
       "      <td>3507.0</td>\n",
       "      <td>0.0</td>\n",
       "      <td>-0.620617</td>\n",
       "      <td>0.267426</td>\n",
       "      <td>-0.560448</td>\n",
       "      <td>0.287587</td>\n",
       "      <td>POLYGON ((-86.46538 32.47372, -86.46597 32.473...</td>\n",
       "    </tr>\n",
       "    <tr>\n",
       "      <th>3</th>\n",
       "      <td>1001020400</td>\n",
       "      <td>0</td>\n",
       "      <td>0.0</td>\n",
       "      <td>False</td>\n",
       "      <td>False</td>\n",
       "      <td>False</td>\n",
       "      <td>0</td>\n",
       "      <td>0.0</td>\n",
       "      <td>3878.0</td>\n",
       "      <td>0.0</td>\n",
       "      <td>-0.620617</td>\n",
       "      <td>0.267426</td>\n",
       "      <td>-0.560448</td>\n",
       "      <td>0.287587</td>\n",
       "      <td>POLYGON ((-86.43807 32.45349, -86.43812 32.453...</td>\n",
       "    </tr>\n",
       "    <tr>\n",
       "      <th>4</th>\n",
       "      <td>1001020500</td>\n",
       "      <td>0</td>\n",
       "      <td>0.0</td>\n",
       "      <td>False</td>\n",
       "      <td>False</td>\n",
       "      <td>False</td>\n",
       "      <td>0</td>\n",
       "      <td>0.0</td>\n",
       "      <td>10596.0</td>\n",
       "      <td>0.0</td>\n",
       "      <td>-0.620617</td>\n",
       "      <td>0.267426</td>\n",
       "      <td>-0.560448</td>\n",
       "      <td>0.287587</td>\n",
       "      <td>POLYGON ((-86.4118 32.47416, -86.4118 32.47369...</td>\n",
       "    </tr>\n",
       "  </tbody>\n",
       "</table>\n",
       "</div>"
      ],
      "text/plain": [
       "     tract_id  total_criteria  total_burdens  dac_wo_neighbors  \\\n",
       "0  1001020100               0            0.0             False   \n",
       "1  1001020200               0            0.0             False   \n",
       "2  1001020300               0            0.0             False   \n",
       "3  1001020400               0            0.0             False   \n",
       "4  1001020500               0            0.0             False   \n",
       "\n",
       "   dac_relaxed_low_income    dac  percent_area_dac  share_of_dac_neighbors  \\\n",
       "0                   False  False                 0                     0.0   \n",
       "1                   False  False                 0                     0.0   \n",
       "2                   False  False                 0                     0.0   \n",
       "3                   False  False                 0                     0.0   \n",
       "4                   False  False                 0                     0.0   \n",
       "\n",
       "   total_population  original_g_star  standardized_g_star    p_norm  \\\n",
       "0            1993.0              0.0            -0.620617  0.267426   \n",
       "1            1959.0              0.0            -0.620617  0.267426   \n",
       "2            3507.0              0.0            -0.620617  0.267426   \n",
       "3            3878.0              0.0            -0.620617  0.267426   \n",
       "4           10596.0              0.0            -0.620617  0.267426   \n",
       "\n",
       "   standardized_g_star_crit  p_norm_crit  \\\n",
       "0                 -0.560448     0.287587   \n",
       "1                 -0.560448     0.287587   \n",
       "2                 -0.560448     0.287587   \n",
       "3                 -0.560448     0.287587   \n",
       "4                 -0.560448     0.287587   \n",
       "\n",
       "                                            geometry  \n",
       "0  POLYGON ((-86.48196 32.49876, -86.48189 32.498...  \n",
       "1  POLYGON ((-86.46828 32.4737, -86.468 32.47371,...  \n",
       "2  POLYGON ((-86.46538 32.47372, -86.46597 32.473...  \n",
       "3  POLYGON ((-86.43807 32.45349, -86.43812 32.453...  \n",
       "4  POLYGON ((-86.4118 32.47416, -86.4118 32.47369...  "
      ]
     },
     "execution_count": 2,
     "metadata": {},
     "output_type": "execute_result"
    }
   ],
   "source": [
    "# Read in GeoJSON of all \n",
    "national_results = gpd.read_file('/capstone/justice40/data/national_results.geojson')\n",
    "national_results.head()"
   ]
  },
  {
   "cell_type": "code",
   "execution_count": 3,
   "metadata": {},
   "outputs": [],
   "source": [
    "#national_results['total_burdens'].plot(kind='hist', bins=8)\n",
    "#plt.title('Histogram of Total Burdens')"
   ]
  },
  {
   "cell_type": "code",
   "execution_count": 4,
   "metadata": {},
   "outputs": [],
   "source": [
    "#national_results['total_criteria'].plot(kind='hist')\n",
    "#plt.title('Histogram of Total Criteria')"
   ]
  },
  {
   "cell_type": "code",
   "execution_count": 5,
   "metadata": {},
   "outputs": [],
   "source": [
    "# national_results.crs"
   ]
  },
  {
   "cell_type": "code",
   "execution_count": 6,
   "metadata": {},
   "outputs": [],
   "source": [
    "# west = -124.848974  # Leftmost longitude (Cape Alava, Washington)\n",
    "# east = -66.947028   # Rightmost longitude (West Quoddy Head, Maine)\n",
    "# south = 24.396308   # Bottommost latitude (Key West, Florida)\n",
    "# north = 49.384358   # Topmost latitude (Northwest Angle, Minnesota)\n",
    "\n",
    "# bbox = [west, south, east, north]  # [min_lon, min_lat, max_lon, max_lat]\n",
    "# # or as\n",
    "# bbox = [[south, west], [north, east]]  # [[min_lat, min_lon], [max_lat, max_lon]]\n",
    "\n",
    "# map = folium.Map()\n",
    "# map.fit_bounds(bbox)\n",
    "# map"
   ]
  },
  {
   "cell_type": "code",
   "execution_count": 7,
   "metadata": {},
   "outputs": [],
   "source": [
    "# folium.Choropleth(\n",
    "#     geo_data=national_results,\n",
    "#     name=\"choropleth\",\n",
    "#     data=national_results,\n",
    "#     columns=[\"tract_id\", \"standardized_g_star\"],\n",
    "#     key_on=\"feature.properties.tract_id\",  # Changed this line\n",
    "#     fill_color=\"RdBu\",\n",
    "#     fill_opacity=0.7,\n",
    "#     line_opacity=0.2,\n",
    "#     legend_name=\"Standardized G Star\",\n",
    "# ).add_to(map)\n"
   ]
  },
  {
   "cell_type": "code",
   "execution_count": 8,
   "metadata": {},
   "outputs": [],
   "source": [
    "# folium.LayerControl().add_to(map)\n",
    "# map"
   ]
  },
  {
   "cell_type": "code",
   "execution_count": 9,
   "metadata": {},
   "outputs": [],
   "source": [
    "# national_small = national_results[['geometry', 'standardized_g_star']]\n",
    "# national_small = national_small.rename(columns={'standardized_g_star':'stand_gstar'})\n",
    "# national_small.head()"
   ]
  },
  {
   "cell_type": "code",
   "execution_count": 10,
   "metadata": {},
   "outputs": [],
   "source": [
    "# len(national_small)"
   ]
  },
  {
   "cell_type": "code",
   "execution_count": 11,
   "metadata": {},
   "outputs": [],
   "source": [
    "# national_small.to_file('/capstone/justice40/data/national_small.geojson', driver=\"GeoJSON\")  "
   ]
  },
  {
   "cell_type": "code",
   "execution_count": 12,
   "metadata": {},
   "outputs": [],
   "source": [
    "# gstar_test = national_results[['tract_id', 'standardized_g_star']]\n",
    "# gstar_test = gstar_test.rename(columns={'standardized_g_star':'stand_gstar'})\n",
    "# gstar_test.head()"
   ]
  },
  {
   "cell_type": "code",
   "execution_count": 13,
   "metadata": {},
   "outputs": [],
   "source": [
    "# gstar_test.to_csv('/capstone/justice40/data/gstar_test.csv', index=False)\n"
   ]
  },
  {
   "cell_type": "code",
   "execution_count": 14,
   "metadata": {},
   "outputs": [],
   "source": [
    "national_results = national_results[national_results.geometry.notnull()]\n"
   ]
  },
  {
   "cell_type": "code",
   "execution_count": 15,
   "metadata": {},
   "outputs": [],
   "source": [
    "national_results[\"geometry\"] = national_results.simplify(0.001)\n"
   ]
  },
  {
   "cell_type": "code",
   "execution_count": null,
   "metadata": {},
   "outputs": [
    {
     "name": "stderr",
     "output_type": "stream",
     "text": [
      "/tmp/ipykernel_1038415/882456021.py:2: UserWarning: Geometry is in a geographic CRS. Results from 'centroid' are likely incorrect. Use 'GeoSeries.to_crs()' to re-project geometries to a projected CRS before this operation.\n",
      "\n",
      "  center = national_results.geometry.centroid.unary_union.centroid\n",
      "/tmp/ipykernel_1038415/882456021.py:2: DeprecationWarning: The 'unary_union' attribute is deprecated, use the 'union_all()' method instead.\n",
      "  center = national_results.geometry.centroid.unary_union.centroid\n"
     ]
    }
   ],
   "source": [
    "# Center the map around the geometries in your GeoDataFrame\n",
    "center = national_results.geometry.centroid.unary_union.centroid\n",
    "latitude, longitude = center.y, center.x\n",
    "\n",
    "# Initialize the map\n",
    "map = folium.Map(location=[latitude, longitude], zoom_start=6)\n",
    "\n",
    "# Add the choropleth layer\n",
    "folium.Choropleth(\n",
    "    geo_data=national_results,                          # GeoDataFrame automatically converted to GeoJSON\n",
    "    name=\"choropleth\",\n",
    "    data=national_results,                              # Use the same GeoDataFrame\n",
    "    columns=[\"tract_id\", \"standardized_g_star\"],        # Match your DataFrame columns\n",
    "    key_on=\"feature.properties.tract_id\",               # Match the GeoJSON property\n",
    "    fill_color=\"RdBu_r\",\n",
    "    fill_opacity=0.7,\n",
    "    line_opacity=0.2,\n",
    "    legend_name=\"Standardized G Star\",\n",
    ").add_to(map)\n",
    "\n",
    "# Add layer control\n",
    "folium.LayerControl().add_to(map)\n",
    "\n",
    "# Save or display the map\n",
    "map.save(\"index.html\")\n",
    "map\n",
    "\n"
   ]
  },
  {
   "cell_type": "code",
   "execution_count": null,
   "metadata": {},
   "outputs": [],
   "source": [
    "# print(national_results.iloc[0])\n"
   ]
  },
  {
   "cell_type": "code",
   "execution_count": null,
   "metadata": {},
   "outputs": [],
   "source": []
  }
 ],
 "metadata": {
  "kernelspec": {
   "display_name": "justice40-env",
   "language": "python",
   "name": "python3"
  },
  "language_info": {
   "codemirror_mode": {
    "name": "ipython",
    "version": 3
   },
   "file_extension": ".py",
   "mimetype": "text/x-python",
   "name": "python",
   "nbconvert_exporter": "python",
   "pygments_lexer": "ipython3",
   "version": "3.10.16"
  }
 },
 "nbformat": 4,
 "nbformat_minor": 2
}
