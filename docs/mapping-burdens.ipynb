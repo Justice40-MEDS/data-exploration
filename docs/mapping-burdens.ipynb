{
 "cells": [
  {
   "cell_type": "markdown",
   "metadata": {},
   "source": [
    "# Attempting to map clustering for each individual burden\n",
    "\n",
    "```python\n",
    "CC = ['Expected agricultural loss rate (Natural Hazards Risk Index) (percentile)', 'Expected building loss rate (Natural Hazards Risk Index) (percentile)', 'Expected population loss rate (Natural Hazards Risk Index) (percentile)', 'Share of properties at risk of flood in 30 years (percentile)', 'Share of properties at risk of fire in 30 years (percentile)']\n",
    "\n",
    "energy = ['Energy burden (percentile)', 'PM2.5 in the air (percentile)']\n",
    "\n",
    "housing = ['Housing burden (percent) (percentile)', 'Share of homes with no kitchen or indoor plumbing (percent) (percentile)', 'Percent pre-1960s housing (lead paint indicator) (percentile)']\n",
    "\n",
    "health = ['Current asthma among adults aged greater than or equal to 18 years (percentile)', 'Diagnosed diabetes among adults aged greater than or equal to 18 years (percentile)', 'Coronary heart disease among adults aged greater than or equal to 18 years (percentile)', 'Low life expectancy (percentile)']\n",
    "\n",
    "lp = ['Is there at least one abandoned mine in this census tract?', 'Is there at least one Formerly Used Defense Site (FUDS) in the tract?', 'Proximity to hazardous waste sites (percentile)', 'Proximity to NPL sites (percentile)', 'Proximity to Risk Management Plan (RMP) facilities (percentile)']\n",
    "\n",
    "transport = ['Diesel particulate matter exposure (percentile)', 'DOT Travel Barriers Score (percentile)', 'Traffic proximity and volume (percentile)'] \n",
    "\n",
    "ww = ['Leaky underground storage tanks (percentile)', 'Wastewater discharge (percentile)']\n",
    "\n",
    "wd = ['Linguistic isolation (percent) (percentile)', 'Low median household income as a percent of area median income (percentile)', 'Poverty (Less than 200% of federal poverty line) (percentile)', 'Unemployment (percent) (percentile)']\n",
    "```"
   ]
  },
  {
   "cell_type": "code",
   "execution_count": 2,
   "metadata": {},
   "outputs": [],
   "source": [
    "# Load packages \n",
    "import pandas as pd\n",
    "import numpy as np\n",
    "import geopandas as gpd\n",
    "import matplotlib.pyplot as plt\n",
    "import matplotlib.colors as mcolors\n",
    "import seaborn as sns         \n",
    "import numpy as np\n",
    "import os\n",
    "import libpysal as lps \n",
    "from libpysal.weights import W \n",
    "from esda.getisord import G_Local\n",
    "from map_burden import map_burden\n",
    "import pprint\n",
    "from functools import reduce\n",
    "from scipy.stats import zscore\n",
    "from scipy import stats\n",
    "\n",
    "# Remove max columns\n",
    "pd.set_option('display.max_columns', None)"
   ]
  },
  {
   "cell_type": "code",
   "execution_count": null,
   "metadata": {},
   "outputs": [],
   "source": [
    "# Import data\n",
    "base_dir = \"/capstone/justice40\"\n",
    "# base_dir = \"~/MEDS/justice40/data-exploration\"\n",
    "\n",
    "# Complete 2.0 USA file\n",
    "# usa_v2 = pd.read_csv(os.path.join(base_dir, \"data\", \"usa_v2.csv\"))\n",
    "\n",
    "# 2.0 communities files (from current CEJST website)\n",
    "comm_v2 = pd.read_csv(os.path.join(base_dir, \"data\", \"2.0-communities.csv\"))\n",
    "\n",
    "# Version 2.0 shapefile data\n",
    "# v2 = pd.read_csv(os.path.join(base_dir, \"data\", \"2.0-shapefile-codebook\", \"2.0-codebook.csv\"))\n",
    "v2_geo = gpd.read_file(os.path.join(base_dir, \"data\", \"2.0-shapefile-codebook\", \"usa\", \"usa.shp\"))"
   ]
  },
  {
   "cell_type": "code",
   "execution_count": null,
   "metadata": {},
   "outputs": [],
   "source": [
    "from map_burden import map_burden \n",
    "\n",
    "map_burden(burden='Climate Change', df=comm_v2, geo_df=v2_geo)"
   ]
  },
  {
   "cell_type": "code",
   "execution_count": null,
   "metadata": {},
   "outputs": [],
   "source": [
    "map_burden(burden='Energy', df=comm_v2, geo_df=v2_geo)"
   ]
  },
  {
   "cell_type": "code",
   "execution_count": null,
   "metadata": {},
   "outputs": [],
   "source": [
    "map_burden(burden='Health', df=comm_v2, geo_df=v2_geo)"
   ]
  },
  {
   "cell_type": "code",
   "execution_count": null,
   "metadata": {},
   "outputs": [],
   "source": [
    "map_burden(burden='Housing', df=comm_v2, geo_df=v2_geo)"
   ]
  },
  {
   "cell_type": "code",
   "execution_count": null,
   "metadata": {},
   "outputs": [],
   "source": [
    "map_burden(burden='Legacy Pollution', df=comm_v2, geo_df=v2_geo)"
   ]
  },
  {
   "cell_type": "code",
   "execution_count": null,
   "metadata": {},
   "outputs": [],
   "source": [
    "map_burden(burden='Transportation', df=comm_v2, geo_df=v2_geo)"
   ]
  },
  {
   "cell_type": "code",
   "execution_count": null,
   "metadata": {},
   "outputs": [],
   "source": [
    "map_burden(burden='Waste and Wastewater', df=comm_v2, geo_df=v2_geo)"
   ]
  },
  {
   "cell_type": "code",
   "execution_count": null,
   "metadata": {},
   "outputs": [],
   "source": [
    "map_burden(burden='Workforce Development', df=comm_v2, geo_df=v2_geo)"
   ]
  },
  {
   "cell_type": "code",
   "execution_count": null,
   "metadata": {},
   "outputs": [],
   "source": [
    "# Climate Change\n",
    "cc = comm_states[['Expected agricultural loss rate (Natural Hazards Risk Index) (percentile)', \n",
    "            'Expected building loss rate (Natural Hazards Risk Index) (percentile)', \n",
    "            'Expected population loss rate (Natural Hazards Risk Index) (percentile)', \n",
    "            'Share of properties at risk of flood in 30 years (percentile)', \n",
    "            'Share of properties at risk of fire in 30 years (percentile)',\n",
    "            # 'GEOID10_TRACT',\n",
    "            'State/Territory',\n",
    "            'Census tract 2010 ID']]\n",
    "cc =cc.rename(columns={\n",
    "    'Expected agricultural loss rate (Natural Hazards Risk Index) (percentile)':'ag_loss', \n",
    "    'Expected building loss rate (Natural Hazards Risk Index) (percentile)':'building_loss', \n",
    "    'Expected population loss rate (Natural Hazards Risk Index) (percentile)':'population_loss', \n",
    "    'Share of properties at risk of flood in 30 years (percentile)':'flood_risk', \n",
    "    'Share of properties at risk of fire in 30 years (percentile)':'fire_risk',\n",
    "    'Census tract 2010 ID':'tract_id',\n",
    "    'State/Territory':'state'\n",
    "})\n",
    "cc['cc_mean'] = cc[['ag_loss', 'building_loss', 'population_loss', 'flood_risk', 'fire_risk']].mean(axis=1)\n",
    "\n",
    "cc.head()"
   ]
  },
  {
   "cell_type": "code",
   "execution_count": null,
   "metadata": {},
   "outputs": [],
   "source": [
    "# Energy\n",
    "energy = comm_states[['Energy burden (percentile)', 'PM2.5 in the air (percentile)', 'Census tract 2010 ID']]\n",
    "energy = energy.rename(columns={\n",
    "    'Energy burden (percentile)':'energy_burden', \n",
    "    'PM2.5 in the air (percentile)':'pm_25',\n",
    "    'Census tract 2010 ID':'tract_id'\n",
    "    })\n",
    "energy['energy_mean'] = energy[['energy_burden', 'pm_25']].mean(axis=1)\n",
    "\n",
    "energy.head()"
   ]
  },
  {
   "cell_type": "code",
   "execution_count": null,
   "metadata": {},
   "outputs": [],
   "source": [
    "# Housing\n",
    "housing = comm_states[['Housing burden (percent) (percentile)', \n",
    "                'Share of homes with no kitchen or indoor plumbing (percentile)', \n",
    "                'Percent pre-1960s housing (lead paint indicator) (percentile)',\n",
    "                'Census tract 2010 ID']]\n",
    "housing = housing.rename(columns={\n",
    "    'Housing burden (percent) (percentile)':'housing_burden',\n",
    "    'Share of homes with no kitchen or indoor plumbing (percentile)':'no_plumbing', \n",
    "    'Percent pre-1960s housing (lead paint indicator) (percentile)':'lead_paint',\n",
    "    'Census tract 2010 ID':'tract_id'\n",
    "})\n",
    "housing['housing_mean'] = housing[['housing_burden', 'no_plumbing', 'lead_paint']].mean(axis=1)\n",
    "\n",
    "housing.head()"
   ]
  },
  {
   "cell_type": "code",
   "execution_count": null,
   "metadata": {},
   "outputs": [],
   "source": [
    "# Health\n",
    "health = comm_states[['Current asthma among adults aged greater than or equal to 18 years (percentile)', \n",
    "                'Diagnosed diabetes among adults aged greater than or equal to 18 years (percentile)', \n",
    "                'Coronary heart disease among adults aged greater than or equal to 18 years (percentile)',\n",
    "                'Low life expectancy (percentile)',\n",
    "                'Census tract 2010 ID']]\n",
    "health = health.rename(columns={\n",
    "    'Current asthma among adults aged greater than or equal to 18 years (percentile)':'asthma', \n",
    "    'Diagnosed diabetes among adults aged greater than or equal to 18 years (percentile)':'diabetes', \n",
    "    'Coronary heart disease among adults aged greater than or equal to 18 years (percentile)':'heart_disease',\n",
    "    'Low life expectancy (percentile)':'low_life_expectancy',\n",
    "    'Census tract 2010 ID':'tract_id'\n",
    "})\n",
    "health['health_mean'] = health[['asthma', 'diabetes', 'heart_disease', 'low_life_expectancy']].mean(axis=1)\n",
    "\n",
    "health.head()"
   ]
  },
  {
   "cell_type": "code",
   "execution_count": null,
   "metadata": {},
   "outputs": [],
   "source": [
    "# Legacy Pollution\n",
    "lp = comm_states[['Is there at least one abandoned mine in this census tract?', \n",
    "            'Is there at least one Formerly Used Defense Site (FUDS) in the tract?', \n",
    "            'Proximity to hazardous waste sites (percentile)', \n",
    "            'Proximity to NPL (Superfund) sites (percentile)', \n",
    "            'Proximity to Risk Management Plan (RMP) facilities (percentile)',\n",
    "            'Census tract 2010 ID']]\n",
    "lp = lp.rename(columns={\n",
    "    'Is there at least one abandoned mine in this census tract?':'abandoned_mines', \n",
    "    'Is there at least one Formerly Used Defense Site (FUDS) in the tract?':'defense_site', \n",
    "    'Proximity to hazardous waste sites (percentile)':'hazardous_waste', \n",
    "    'Proximity to NPL (Superfund) sites (percentile)':'superfund_sites', \n",
    "    'Proximity to Risk Management Plan (RMP) facilities (percentile)':'rmp_facilites',\n",
    "    'Census tract 2010 ID':'tract_id'\n",
    "})\n",
    "lp['lp_mean'] = lp[['abandoned_mines', 'defense_site', 'hazardous_waste', 'superfund_sites', 'rmp_facilites']].mean(axis=1)\n",
    "\n",
    "lp.head()"
   ]
  },
  {
   "cell_type": "code",
   "execution_count": null,
   "metadata": {},
   "outputs": [],
   "source": [
    "# Transportation\n",
    "transport = comm_states[['Diesel particulate matter exposure (percentile)', \n",
    "                    'DOT Travel Barriers Score (percentile)', \n",
    "                    'Traffic proximity and volume (percentile)',\n",
    "                    'Census tract 2010 ID']]\n",
    "transport = transport.rename(columns={\n",
    "    'Diesel particulate matter exposure (percentile)':'diesel_pm', \n",
    "    'DOT Travel Barriers Score (percentile)':'travel_barriers', \n",
    "    'Traffic proximity and volume (percentile)':'traffic_proximity',\n",
    "    'Census tract 2010 ID':'tract_id'\n",
    "})\n",
    "transport['transport_mean'] = transport[['diesel_pm', 'travel_barriers', 'traffic_proximity']].mean(axis=1)\n",
    "\n",
    "transport.head()"
   ]
  },
  {
   "cell_type": "code",
   "execution_count": null,
   "metadata": {},
   "outputs": [],
   "source": [
    "# Waste and Wastewater\n",
    "ww = comm_states[['Leaky underground storage tanks (percentile)', 'Wastewater discharge (percentile)', 'Census tract 2010 ID']]\n",
    "ww =ww.rename(columns={\n",
    "    'Leaky underground storage tanks (percentile)':'leaky_storage_tanks', \n",
    "    'Wastewater discharge (percentile)':'wastewater_discharge',\n",
    "    'Census tract 2010 ID':'tract_id'\n",
    "})\n",
    "ww['ww_mean'] = ww[['leaky_storage_tanks', 'wastewater_discharge']].mean(axis=1)\n",
    "\n",
    "ww.head()"
   ]
  },
  {
   "cell_type": "code",
   "execution_count": null,
   "metadata": {},
   "outputs": [],
   "source": [
    "# Workforce Development\n",
    "wd = comm_states[['Linguistic isolation (percent) (percentile)', \n",
    "            'Low median household income as a percent of area median income (percentile)', \n",
    "            'Percent of individuals below 200% Federal Poverty Line (percentile)', \n",
    "            'Unemployment (percent) (percentile)',\n",
    "            'Census tract 2010 ID']]\n",
    "wd = wd.rename(columns={\n",
    "    'Linguistic isolation (percent) (percentile)':'ling_isolation', \n",
    "    'Low median household income as a percent of area median income (percentile)':'low_income', \n",
    "    'Percent of individuals below 200% Federal Poverty Line (percentile)':'poverty', \n",
    "    'Unemployment (percent) (percentile)':'unemployment',\n",
    "    'Census tract 2010 ID':'tract_id'\n",
    "})\n",
    "wd['wd_mean'] = wd[['ling_isolation', 'low_income', 'poverty', 'unemployment']].mean(axis=1)\n",
    "\n",
    "wd.head()"
   ]
  },
  {
   "cell_type": "code",
   "execution_count": null,
   "metadata": {},
   "outputs": [],
   "source": [
    "# Concat without ids\n",
    "# dfs = [cc, health, housing, energy, lp, transport, ww, wd]\n",
    "# complete = pd.concat(dfs, axis=1)\n",
    "# complete.head()"
   ]
  },
  {
   "cell_type": "code",
   "execution_count": null,
   "metadata": {},
   "outputs": [],
   "source": [
    "# Merge using tract ID\n",
    "# dfs = [cc, health, housing, energy, lp, transport, ww, wd]\n",
    "# df_merged = reduce(lambda  left,right: pd.merge(left,right,on=['tract_id'],\n",
    "#                                             how='outer'), \n",
    "#                                             dfs)\n",
    "# df_merged = df_merged.set_index('tract_id')\n",
    "# df_merged.head()\n",
    "# df_merged.shape"
   ]
  },
  {
   "cell_type": "code",
   "execution_count": null,
   "metadata": {},
   "outputs": [],
   "source": [
    "# Drop NAs from mean column\n",
    "# cc_clean = cc_clean.dropna(subset=['cc_mean'])\n",
    "# cc_clean.isna().sum()"
   ]
  },
  {
   "cell_type": "code",
   "execution_count": null,
   "metadata": {},
   "outputs": [],
   "source": [
    "# Get the appropriate data frame\n",
    "burden_names = {\n",
    "        'Climate Change': cc,\n",
    "        'Energy': energy,\n",
    "        'Health': health,\n",
    "        'Housing': housing,\n",
    "        'Legacy Pollution': lp,\n",
    "        'Transportation': transport,\n",
    "        'Waste and Wastewater': ww,\n",
    "        'Workforce Development': wd\n",
    "    }\n",
    "\n",
    "    burden_names = {\n",
    "        'Climate Change':'cc',\n",
    "        'Energy':'energy',\n",
    "        'Health':'health',\n",
    "        'Housing':'housing',\n",
    "        'Legacy Pollution':'lp',\n",
    "        'Transportation':'transport',\n",
    "        'Waste and Wastewater':'ww',\n",
    "        'Workforce Development':'wd'\n",
    "    }\n",
    "\n",
    "data = burden_names['Energy']\n",
    "data"
   ]
  }
 ],
 "metadata": {
  "kernelspec": {
   "display_name": "justice40-env",
   "language": "python",
   "name": "python3"
  },
  "language_info": {
   "codemirror_mode": {
    "name": "ipython",
    "version": 3
   },
   "file_extension": ".py",
   "mimetype": "text/x-python",
   "name": "python",
   "nbconvert_exporter": "python",
   "pygments_lexer": "ipython3",
   "version": "3.10.16"
  }
 },
 "nbformat": 4,
 "nbformat_minor": 2
}
