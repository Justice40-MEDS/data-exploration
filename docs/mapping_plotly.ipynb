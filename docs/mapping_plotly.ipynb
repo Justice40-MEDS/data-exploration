{
 "cells": [
  {
   "cell_type": "markdown",
   "metadata": {},
   "source": [
    "# Interactive map with plotly"
   ]
  },
  {
   "cell_type": "code",
   "execution_count": 6,
   "metadata": {},
   "outputs": [],
   "source": [
    "# Load libraries\n",
    "import pandas as pd\n",
    "import geopandas as gpd\n",
    "import plotly.express as px"
   ]
  },
  {
   "cell_type": "code",
   "execution_count": 7,
   "metadata": {},
   "outputs": [],
   "source": [
    "# Read in data and simplify geometries\n",
    "national_results = gpd.read_file('/capstone/justice40/data/national_results.geojson')\n",
    "national_results = national_results[national_results.geometry.notnull()]\n",
    "national_results[\"geometry\"] = national_results.simplify(0.001)\n",
    "\n",
    "# Convert to geojson\n",
    "geojson = national_results.__geo_interface__\n"
   ]
  },
  {
   "cell_type": "code",
   "execution_count": 16,
   "metadata": {},
   "outputs": [],
   "source": [
    "# Choropleth map\n",
    "fig = px.choropleth(\n",
    "    national_results,\n",
    "    geojson=geojson,\n",
    "    locations=national_results.index, \n",
    "    color=\"standardized_g_star\",      \n",
    "    color_continuous_scale=\"RdBu_r\",     \n",
    "    # Show these columns with hover over       \n",
    "    # idk why its still showing index          \n",
    "    hover_data={\n",
    "        \"tract_id\": True,\n",
    "        \"standardized_g_star\": ':.2f',\n",
    "        \"total_criteria\": True,\n",
    "        \"total_burdens\": True\n",
    "    },          \n",
    "    title=\"Standardized G Star\"\n",
    ")\n",
    "\n",
    "# Map appearance\n",
    "fig.update_geos(\n",
    "    showcoastlines=True,\n",
    "    coastlinecolor=\"Black\",\n",
    "    showland=True,\n",
    "    landcolor=\"lightgray\",\n",
    "    # State boundary lines\n",
    "    showsubunits=True,\n",
    "    subunitcolor=\"Black\",\n",
    "    # Center on US\n",
    "    center=dict(lat=39.8, lon=-98.5),\n",
    "    projection_scale=2\n",
    ")\n",
    "\n",
    "# Update margins to remove white space\n",
    "fig.update_layout(\n",
    "   margin={\"r\":0,\"t\":30,\"l\":0,\"b\":0})\n",
    "\n",
    "# Save\n",
    "fig.write_html(\"plotly_map.html\")\n"
   ]
  },
  {
   "cell_type": "code",
   "execution_count": null,
   "metadata": {},
   "outputs": [],
   "source": []
  }
 ],
 "metadata": {
  "kernelspec": {
   "display_name": "justice40-env",
   "language": "python",
   "name": "python3"
  },
  "language_info": {
   "codemirror_mode": {
    "name": "ipython",
    "version": 3
   },
   "file_extension": ".py",
   "mimetype": "text/x-python",
   "name": "python",
   "nbconvert_exporter": "python",
   "pygments_lexer": "ipython3",
   "version": "3.10.16"
  }
 },
 "nbformat": 4,
 "nbformat_minor": 2
}
