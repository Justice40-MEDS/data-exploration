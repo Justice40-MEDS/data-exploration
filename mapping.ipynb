{
 "cells": [
  {
   "cell_type": "markdown",
   "metadata": {},
   "source": [
    "# Interactive Mapping "
   ]
  },
  {
   "cell_type": "code",
   "execution_count": 1,
   "metadata": {},
   "outputs": [],
   "source": [
    "# Load packages \n",
    "import pandas as pd\n",
    "import geopandas as gpd\n",
    "import matplotlib.pyplot as plt\n",
    "from matplotlib import colors\n",
    "import seaborn as sns         \n",
    "import numpy as np\n",
    "import os\n",
    "import folium\n",
    "import plotly.express as px\n",
    "import rasterio \n",
    "import rioxarray as rioxr\n",
    "# from bokeh.plotting import figure, show\n",
    "\n",
    "# import libpysal as lps \n",
    "# from libpysal.weights import W \n",
    "# from esda.getisord import G_Local\n",
    "# from functions import state_gstar\n",
    "\n",
    "# Remove max columns\n",
    "pd.set_option('display.max_columns', None)"
   ]
  },
  {
   "cell_type": "code",
   "execution_count": 2,
   "metadata": {},
   "outputs": [
    {
     "data": {
      "text/html": [
       "<div>\n",
       "<style scoped>\n",
       "    .dataframe tbody tr th:only-of-type {\n",
       "        vertical-align: middle;\n",
       "    }\n",
       "\n",
       "    .dataframe tbody tr th {\n",
       "        vertical-align: top;\n",
       "    }\n",
       "\n",
       "    .dataframe thead th {\n",
       "        text-align: right;\n",
       "    }\n",
       "</style>\n",
       "<table border=\"1\" class=\"dataframe\">\n",
       "  <thead>\n",
       "    <tr style=\"text-align: right;\">\n",
       "      <th></th>\n",
       "      <th>tract_id</th>\n",
       "      <th>total_criteria</th>\n",
       "      <th>total_burdens</th>\n",
       "      <th>dac_wo_neighbors</th>\n",
       "      <th>dac_relaxed_low_income</th>\n",
       "      <th>dac</th>\n",
       "      <th>percent_area_dac</th>\n",
       "      <th>share_of_dac_neighbors</th>\n",
       "      <th>total_population</th>\n",
       "      <th>original_g_star</th>\n",
       "      <th>standardized_g_star</th>\n",
       "      <th>p_norm</th>\n",
       "      <th>standardized_g_star_crit</th>\n",
       "      <th>p_norm_crit</th>\n",
       "      <th>geometry</th>\n",
       "    </tr>\n",
       "  </thead>\n",
       "  <tbody>\n",
       "    <tr>\n",
       "      <th>0</th>\n",
       "      <td>1001020100</td>\n",
       "      <td>0</td>\n",
       "      <td>0.0</td>\n",
       "      <td>False</td>\n",
       "      <td>False</td>\n",
       "      <td>False</td>\n",
       "      <td>0</td>\n",
       "      <td>0.0</td>\n",
       "      <td>1993.0</td>\n",
       "      <td>0.0</td>\n",
       "      <td>-0.620617</td>\n",
       "      <td>0.267426</td>\n",
       "      <td>-0.560448</td>\n",
       "      <td>0.287587</td>\n",
       "      <td>POLYGON ((-86.48196 32.49876, -86.48189 32.498...</td>\n",
       "    </tr>\n",
       "    <tr>\n",
       "      <th>1</th>\n",
       "      <td>1001020200</td>\n",
       "      <td>0</td>\n",
       "      <td>0.0</td>\n",
       "      <td>False</td>\n",
       "      <td>False</td>\n",
       "      <td>False</td>\n",
       "      <td>0</td>\n",
       "      <td>0.0</td>\n",
       "      <td>1959.0</td>\n",
       "      <td>0.0</td>\n",
       "      <td>-0.620617</td>\n",
       "      <td>0.267426</td>\n",
       "      <td>-0.560448</td>\n",
       "      <td>0.287587</td>\n",
       "      <td>POLYGON ((-86.46828 32.4737, -86.468 32.47371,...</td>\n",
       "    </tr>\n",
       "    <tr>\n",
       "      <th>2</th>\n",
       "      <td>1001020300</td>\n",
       "      <td>0</td>\n",
       "      <td>0.0</td>\n",
       "      <td>False</td>\n",
       "      <td>False</td>\n",
       "      <td>False</td>\n",
       "      <td>0</td>\n",
       "      <td>0.0</td>\n",
       "      <td>3507.0</td>\n",
       "      <td>0.0</td>\n",
       "      <td>-0.620617</td>\n",
       "      <td>0.267426</td>\n",
       "      <td>-0.560448</td>\n",
       "      <td>0.287587</td>\n",
       "      <td>POLYGON ((-86.46538 32.47372, -86.46597 32.473...</td>\n",
       "    </tr>\n",
       "    <tr>\n",
       "      <th>3</th>\n",
       "      <td>1001020400</td>\n",
       "      <td>0</td>\n",
       "      <td>0.0</td>\n",
       "      <td>False</td>\n",
       "      <td>False</td>\n",
       "      <td>False</td>\n",
       "      <td>0</td>\n",
       "      <td>0.0</td>\n",
       "      <td>3878.0</td>\n",
       "      <td>0.0</td>\n",
       "      <td>-0.620617</td>\n",
       "      <td>0.267426</td>\n",
       "      <td>-0.560448</td>\n",
       "      <td>0.287587</td>\n",
       "      <td>POLYGON ((-86.43807 32.45349, -86.43812 32.453...</td>\n",
       "    </tr>\n",
       "    <tr>\n",
       "      <th>4</th>\n",
       "      <td>1001020500</td>\n",
       "      <td>0</td>\n",
       "      <td>0.0</td>\n",
       "      <td>False</td>\n",
       "      <td>False</td>\n",
       "      <td>False</td>\n",
       "      <td>0</td>\n",
       "      <td>0.0</td>\n",
       "      <td>10596.0</td>\n",
       "      <td>0.0</td>\n",
       "      <td>-0.620617</td>\n",
       "      <td>0.267426</td>\n",
       "      <td>-0.560448</td>\n",
       "      <td>0.287587</td>\n",
       "      <td>POLYGON ((-86.4118 32.47416, -86.4118 32.47369...</td>\n",
       "    </tr>\n",
       "  </tbody>\n",
       "</table>\n",
       "</div>"
      ],
      "text/plain": [
       "     tract_id  total_criteria  total_burdens  dac_wo_neighbors  \\\n",
       "0  1001020100               0            0.0             False   \n",
       "1  1001020200               0            0.0             False   \n",
       "2  1001020300               0            0.0             False   \n",
       "3  1001020400               0            0.0             False   \n",
       "4  1001020500               0            0.0             False   \n",
       "\n",
       "   dac_relaxed_low_income    dac  percent_area_dac  share_of_dac_neighbors  \\\n",
       "0                   False  False                 0                     0.0   \n",
       "1                   False  False                 0                     0.0   \n",
       "2                   False  False                 0                     0.0   \n",
       "3                   False  False                 0                     0.0   \n",
       "4                   False  False                 0                     0.0   \n",
       "\n",
       "   total_population  original_g_star  standardized_g_star    p_norm  \\\n",
       "0            1993.0              0.0            -0.620617  0.267426   \n",
       "1            1959.0              0.0            -0.620617  0.267426   \n",
       "2            3507.0              0.0            -0.620617  0.267426   \n",
       "3            3878.0              0.0            -0.620617  0.267426   \n",
       "4           10596.0              0.0            -0.620617  0.267426   \n",
       "\n",
       "   standardized_g_star_crit  p_norm_crit  \\\n",
       "0                 -0.560448     0.287587   \n",
       "1                 -0.560448     0.287587   \n",
       "2                 -0.560448     0.287587   \n",
       "3                 -0.560448     0.287587   \n",
       "4                 -0.560448     0.287587   \n",
       "\n",
       "                                            geometry  \n",
       "0  POLYGON ((-86.48196 32.49876, -86.48189 32.498...  \n",
       "1  POLYGON ((-86.46828 32.4737, -86.468 32.47371,...  \n",
       "2  POLYGON ((-86.46538 32.47372, -86.46597 32.473...  \n",
       "3  POLYGON ((-86.43807 32.45349, -86.43812 32.453...  \n",
       "4  POLYGON ((-86.4118 32.47416, -86.4118 32.47369...  "
      ]
     },
     "execution_count": 2,
     "metadata": {},
     "output_type": "execute_result"
    }
   ],
   "source": [
    "# Read in GeoJSON of all \n",
    "national_results = gpd.read_file('/capstone/justice40/data/national_results.geojson')\n",
    "national_results.head()"
   ]
  },
  {
   "cell_type": "code",
   "execution_count": 4,
   "metadata": {},
   "outputs": [
    {
     "data": {
      "text/plain": [
       "<Geographic 2D CRS: EPSG:4326>\n",
       "Name: WGS 84\n",
       "Axis Info [ellipsoidal]:\n",
       "- Lat[north]: Geodetic latitude (degree)\n",
       "- Lon[east]: Geodetic longitude (degree)\n",
       "Area of Use:\n",
       "- name: World.\n",
       "- bounds: (-180.0, -90.0, 180.0, 90.0)\n",
       "Datum: World Geodetic System 1984 ensemble\n",
       "- Ellipsoid: WGS 84\n",
       "- Prime Meridian: Greenwich"
      ]
     },
     "execution_count": 4,
     "metadata": {},
     "output_type": "execute_result"
    }
   ],
   "source": [
    "national_results.crs"
   ]
  },
  {
   "cell_type": "code",
   "execution_count": null,
   "metadata": {},
   "outputs": [
    {
     "data": {
      "text/html": [
       "<div style=\"width:100%;\"><div style=\"position:relative;width:100%;height:0;padding-bottom:60%;\"><span style=\"color:#565656\">Make this Notebook Trusted to load map: File -> Trust Notebook</span><iframe srcdoc=\"&lt;!DOCTYPE html&gt;\n",
       "&lt;html&gt;\n",
       "&lt;head&gt;\n",
       "    \n",
       "    &lt;meta http-equiv=&quot;content-type&quot; content=&quot;text/html; charset=UTF-8&quot; /&gt;\n",
       "    \n",
       "        &lt;script&gt;\n",
       "            L_NO_TOUCH = false;\n",
       "            L_DISABLE_3D = false;\n",
       "        &lt;/script&gt;\n",
       "    \n",
       "    &lt;style&gt;html, body {width: 100%;height: 100%;margin: 0;padding: 0;}&lt;/style&gt;\n",
       "    &lt;style&gt;#map {position:absolute;top:0;bottom:0;right:0;left:0;}&lt;/style&gt;\n",
       "    &lt;script src=&quot;https://cdn.jsdelivr.net/npm/leaflet@1.9.3/dist/leaflet.js&quot;&gt;&lt;/script&gt;\n",
       "    &lt;script src=&quot;https://code.jquery.com/jquery-3.7.1.min.js&quot;&gt;&lt;/script&gt;\n",
       "    &lt;script src=&quot;https://cdn.jsdelivr.net/npm/bootstrap@5.2.2/dist/js/bootstrap.bundle.min.js&quot;&gt;&lt;/script&gt;\n",
       "    &lt;script src=&quot;https://cdnjs.cloudflare.com/ajax/libs/Leaflet.awesome-markers/2.0.2/leaflet.awesome-markers.js&quot;&gt;&lt;/script&gt;\n",
       "    &lt;link rel=&quot;stylesheet&quot; href=&quot;https://cdn.jsdelivr.net/npm/leaflet@1.9.3/dist/leaflet.css&quot;/&gt;\n",
       "    &lt;link rel=&quot;stylesheet&quot; href=&quot;https://cdn.jsdelivr.net/npm/bootstrap@5.2.2/dist/css/bootstrap.min.css&quot;/&gt;\n",
       "    &lt;link rel=&quot;stylesheet&quot; href=&quot;https://netdna.bootstrapcdn.com/bootstrap/3.0.0/css/bootstrap-glyphicons.css&quot;/&gt;\n",
       "    &lt;link rel=&quot;stylesheet&quot; href=&quot;https://cdn.jsdelivr.net/npm/@fortawesome/fontawesome-free@6.2.0/css/all.min.css&quot;/&gt;\n",
       "    &lt;link rel=&quot;stylesheet&quot; href=&quot;https://cdnjs.cloudflare.com/ajax/libs/Leaflet.awesome-markers/2.0.2/leaflet.awesome-markers.css&quot;/&gt;\n",
       "    &lt;link rel=&quot;stylesheet&quot; href=&quot;https://cdn.jsdelivr.net/gh/python-visualization/folium/folium/templates/leaflet.awesome.rotate.min.css&quot;/&gt;\n",
       "    \n",
       "            &lt;meta name=&quot;viewport&quot; content=&quot;width=device-width,\n",
       "                initial-scale=1.0, maximum-scale=1.0, user-scalable=no&quot; /&gt;\n",
       "            &lt;style&gt;\n",
       "                #map_ada4db61d6dc86bf3d659aecea90e802 {\n",
       "                    position: relative;\n",
       "                    width: 100.0%;\n",
       "                    height: 100.0%;\n",
       "                    left: 0.0%;\n",
       "                    top: 0.0%;\n",
       "                }\n",
       "                .leaflet-container { font-size: 1rem; }\n",
       "            &lt;/style&gt;\n",
       "        \n",
       "&lt;/head&gt;\n",
       "&lt;body&gt;\n",
       "    \n",
       "    \n",
       "            &lt;div class=&quot;folium-map&quot; id=&quot;map_ada4db61d6dc86bf3d659aecea90e802&quot; &gt;&lt;/div&gt;\n",
       "        \n",
       "&lt;/body&gt;\n",
       "&lt;script&gt;\n",
       "    \n",
       "    \n",
       "            var map_ada4db61d6dc86bf3d659aecea90e802 = L.map(\n",
       "                &quot;map_ada4db61d6dc86bf3d659aecea90e802&quot;,\n",
       "                {\n",
       "                    center: [0.0, 0.0],\n",
       "                    crs: L.CRS.EPSG3857,\n",
       "                    ...{\n",
       "  &quot;zoom&quot;: 1,\n",
       "  &quot;zoomControl&quot;: true,\n",
       "  &quot;preferCanvas&quot;: false,\n",
       "}\n",
       "\n",
       "                }\n",
       "            );\n",
       "\n",
       "            \n",
       "\n",
       "        \n",
       "    \n",
       "            var tile_layer_3c65b314a873b061ebf52907f944ef69 = L.tileLayer(\n",
       "                &quot;https://tile.openstreetmap.org/{z}/{x}/{y}.png&quot;,\n",
       "                {\n",
       "  &quot;minZoom&quot;: 0,\n",
       "  &quot;maxZoom&quot;: 19,\n",
       "  &quot;maxNativeZoom&quot;: 19,\n",
       "  &quot;noWrap&quot;: false,\n",
       "  &quot;attribution&quot;: &quot;\\u0026copy; \\u003ca href=\\&quot;https://www.openstreetmap.org/copyright\\&quot;\\u003eOpenStreetMap\\u003c/a\\u003e contributors&quot;,\n",
       "  &quot;subdomains&quot;: &quot;abc&quot;,\n",
       "  &quot;detectRetina&quot;: false,\n",
       "  &quot;tms&quot;: false,\n",
       "  &quot;opacity&quot;: 1,\n",
       "}\n",
       "\n",
       "            );\n",
       "        \n",
       "    \n",
       "            tile_layer_3c65b314a873b061ebf52907f944ef69.addTo(map_ada4db61d6dc86bf3d659aecea90e802);\n",
       "        \n",
       "    \n",
       "            map_ada4db61d6dc86bf3d659aecea90e802.fitBounds(\n",
       "                [[24.396308, -124.848974], [49.384358, -66.947028]],\n",
       "                {}\n",
       "            );\n",
       "        \n",
       "&lt;/script&gt;\n",
       "&lt;/html&gt;\" style=\"position:absolute;width:100%;height:100%;left:0;top:0;border:none !important;\" allowfullscreen webkitallowfullscreen mozallowfullscreen></iframe></div></div>"
      ],
      "text/plain": [
       "<folium.folium.Map at 0x7f8dce873d60>"
      ]
     },
     "execution_count": 15,
     "metadata": {},
     "output_type": "execute_result"
    }
   ],
   "source": [
    "west = -124.848974  # Leftmost longitude (Cape Alava, Washington)\n",
    "east = -66.947028   # Rightmost longitude (West Quoddy Head, Maine)\n",
    "south = 24.396308   # Bottommost latitude (Key West, Florida)\n",
    "north = 49.384358   # Topmost latitude (Northwest Angle, Minnesota)\n",
    "\n",
    "bbox = [west, south, east, north]  # [min_lon, min_lat, max_lon, max_lat]\n",
    "# or as\n",
    "bbox = [[south, west], [north, east]]  # [[min_lat, min_lon], [max_lat, max_lon]]\n",
    "\n",
    "map = folium.Map()\n",
    "map.fit_bounds(bbox)\n",
    "map"
   ]
  },
  {
   "cell_type": "code",
   "execution_count": 17,
   "metadata": {},
   "outputs": [
    {
     "data": {
      "text/plain": [
       "<folium.features.Choropleth at 0x7f8dce871c90>"
      ]
     },
     "execution_count": 17,
     "metadata": {},
     "output_type": "execute_result"
    }
   ],
   "source": [
    "folium.Choropleth(\n",
    "    geo_data=national_results,\n",
    "    name=\"choropleth\",\n",
    "    data=national_results,\n",
    "    columns=[\"geometry\", \"standardized_g_star\"],\n",
    "    key_on=\"feature.id\",  # Changed this line\n",
    "    fill_color=\"RdBu\",\n",
    "    fill_opacity=0.7,\n",
    "    line_opacity=0.2,\n",
    "    legend_name=\"Standardized G Star\",\n",
    ").add_to(map)\n"
   ]
  },
  {
   "cell_type": "code",
   "execution_count": null,
   "metadata": {},
   "outputs": [],
   "source": [
    "# folium.LayerControl().add_to(map)\n",
    "# map"
   ]
  },
  {
   "cell_type": "code",
   "execution_count": null,
   "metadata": {},
   "outputs": [
    {
     "data": {
      "text/html": [
       "<div>\n",
       "<style scoped>\n",
       "    .dataframe tbody tr th:only-of-type {\n",
       "        vertical-align: middle;\n",
       "    }\n",
       "\n",
       "    .dataframe tbody tr th {\n",
       "        vertical-align: top;\n",
       "    }\n",
       "\n",
       "    .dataframe thead th {\n",
       "        text-align: right;\n",
       "    }\n",
       "</style>\n",
       "<table border=\"1\" class=\"dataframe\">\n",
       "  <thead>\n",
       "    <tr style=\"text-align: right;\">\n",
       "      <th></th>\n",
       "      <th>geometry</th>\n",
       "      <th>stand_gstar</th>\n",
       "    </tr>\n",
       "  </thead>\n",
       "  <tbody>\n",
       "    <tr>\n",
       "      <th>0</th>\n",
       "      <td>POLYGON ((-86.48196 32.49876, -86.48189 32.498...</td>\n",
       "      <td>-0.620617</td>\n",
       "    </tr>\n",
       "    <tr>\n",
       "      <th>1</th>\n",
       "      <td>POLYGON ((-86.46828 32.4737, -86.468 32.47371,...</td>\n",
       "      <td>-0.620617</td>\n",
       "    </tr>\n",
       "    <tr>\n",
       "      <th>2</th>\n",
       "      <td>POLYGON ((-86.46538 32.47372, -86.46597 32.473...</td>\n",
       "      <td>-0.620617</td>\n",
       "    </tr>\n",
       "    <tr>\n",
       "      <th>3</th>\n",
       "      <td>POLYGON ((-86.43807 32.45349, -86.43812 32.453...</td>\n",
       "      <td>-0.620617</td>\n",
       "    </tr>\n",
       "    <tr>\n",
       "      <th>4</th>\n",
       "      <td>POLYGON ((-86.4118 32.47416, -86.4118 32.47369...</td>\n",
       "      <td>-0.620617</td>\n",
       "    </tr>\n",
       "  </tbody>\n",
       "</table>\n",
       "</div>"
      ],
      "text/plain": [
       "                                            geometry  stand_gstar\n",
       "0  POLYGON ((-86.48196 32.49876, -86.48189 32.498...    -0.620617\n",
       "1  POLYGON ((-86.46828 32.4737, -86.468 32.47371,...    -0.620617\n",
       "2  POLYGON ((-86.46538 32.47372, -86.46597 32.473...    -0.620617\n",
       "3  POLYGON ((-86.43807 32.45349, -86.43812 32.453...    -0.620617\n",
       "4  POLYGON ((-86.4118 32.47416, -86.4118 32.47369...    -0.620617"
      ]
     },
     "execution_count": 6,
     "metadata": {},
     "output_type": "execute_result"
    }
   ],
   "source": [
    "national_small = national_results[['geometry', 'standardized_g_star']]\n",
    "national_small = national_small.rename(columns={'standardized_g_star':'stand_gstar'})\n",
    "national_small.head()"
   ]
  },
  {
   "cell_type": "code",
   "execution_count": 7,
   "metadata": {},
   "outputs": [
    {
     "data": {
      "text/plain": [
       "73767"
      ]
     },
     "execution_count": 7,
     "metadata": {},
     "output_type": "execute_result"
    }
   ],
   "source": [
    "len(national_small)"
   ]
  },
  {
   "cell_type": "code",
   "execution_count": null,
   "metadata": {},
   "outputs": [],
   "source": [
    "# national_small.to_file('/capstone/justice40/data/national_small.geojson', driver=\"GeoJSON\")  "
   ]
  },
  {
   "cell_type": "code",
   "execution_count": null,
   "metadata": {},
   "outputs": [
    {
     "name": "stdout",
     "output_type": "stream",
     "text": [
      "     tract_id  stand_gstar\n",
      "0  1001020100    -0.620617\n",
      "1  1001020200    -0.620617\n",
      "2  1001020300    -0.620617\n",
      "3  1001020400    -0.620617\n",
      "4  1001020500    -0.620617\n"
     ]
    },
    {
     "data": {
      "text/plain": [
       "pandas.core.frame.DataFrame"
      ]
     },
     "execution_count": 4,
     "metadata": {},
     "output_type": "execute_result"
    }
   ],
   "source": [
    "gstar_test = national_results[['tract_id', 'standardized_g_star']]\n",
    "gstar_test = gstar_test.rename(columns={'standardized_g_star':'stand_gstar'})\n",
    "gstar_test.head()"
   ]
  },
  {
   "cell_type": "code",
   "execution_count": null,
   "metadata": {},
   "outputs": [],
   "source": [
    "# gstar_test.to_csv('/capstone/justice40/data/gstar_test.csv', index=False)\n"
   ]
  },
  {
   "cell_type": "code",
   "execution_count": null,
   "metadata": {},
   "outputs": [],
   "source": []
  }
 ],
 "metadata": {
  "kernelspec": {
   "display_name": "justice40-env",
   "language": "python",
   "name": "python3"
  },
  "language_info": {
   "codemirror_mode": {
    "name": "ipython",
    "version": 3
   },
   "file_extension": ".py",
   "mimetype": "text/x-python",
   "name": "python",
   "nbconvert_exporter": "python",
   "pygments_lexer": "ipython3",
   "version": "3.10.16"
  }
 },
 "nbformat": 4,
 "nbformat_minor": 2
}
